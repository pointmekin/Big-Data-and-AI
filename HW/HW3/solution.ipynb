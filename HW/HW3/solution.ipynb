{
 "cells": [
  {
   "cell_type": "code",
   "execution_count": 1,
   "metadata": {},
   "outputs": [],
   "source": [
    "import pandas as pd\n",
    "import numpy as np\n",
    "import seaborn as sns\n",
    "import matplotlib.pyplot as plt"
   ]
  },
  {
   "cell_type": "code",
   "execution_count": 2,
   "metadata": {},
   "outputs": [],
   "source": [
    "df = pd.read_csv(\"/Users/natt/Downloads/2022_DataSceience/BD&AI_2022/00_Lab/W2_Preprocessing/W2_2_HW_data/HW2_Housing Survey.csv\")"
   ]
  },
  {
   "cell_type": "code",
   "execution_count": 4,
   "metadata": {},
   "outputs": [
    {
     "data": {
      "text/html": [
       "<div>\n",
       "<style scoped>\n",
       "    .dataframe tbody tr th:only-of-type {\n",
       "        vertical-align: middle;\n",
       "    }\n",
       "\n",
       "    .dataframe tbody tr th {\n",
       "        vertical-align: top;\n",
       "    }\n",
       "\n",
       "    .dataframe thead th {\n",
       "        text-align: right;\n",
       "    }\n",
       "</style>\n",
       "<table border=\"1\" class=\"dataframe\">\n",
       "  <thead>\n",
       "    <tr style=\"text-align: right;\">\n",
       "      <th></th>\n",
       "      <th>RT</th>\n",
       "      <th>SERIALNO</th>\n",
       "      <th>DIVISION</th>\n",
       "      <th>PUMA</th>\n",
       "      <th>REGION</th>\n",
       "      <th>ST</th>\n",
       "      <th>ADJUST</th>\n",
       "      <th>WGTP</th>\n",
       "      <th>NP</th>\n",
       "      <th>TYPE</th>\n",
       "      <th>...</th>\n",
       "      <th>wgtp71</th>\n",
       "      <th>wgtp72</th>\n",
       "      <th>wgtp73</th>\n",
       "      <th>wgtp74</th>\n",
       "      <th>wgtp75</th>\n",
       "      <th>wgtp76</th>\n",
       "      <th>wgtp77</th>\n",
       "      <th>wgtp78</th>\n",
       "      <th>wgtp79</th>\n",
       "      <th>wgtp80</th>\n",
       "    </tr>\n",
       "  </thead>\n",
       "  <tbody>\n",
       "    <tr>\n",
       "      <th>6491</th>\n",
       "      <td>H</td>\n",
       "      <td>1357238</td>\n",
       "      <td>8</td>\n",
       "      <td>300</td>\n",
       "      <td>4</td>\n",
       "      <td>16</td>\n",
       "      <td>1015675</td>\n",
       "      <td>108</td>\n",
       "      <td>2</td>\n",
       "      <td>1</td>\n",
       "      <td>...</td>\n",
       "      <td>198</td>\n",
       "      <td>88</td>\n",
       "      <td>112</td>\n",
       "      <td>26</td>\n",
       "      <td>64</td>\n",
       "      <td>106</td>\n",
       "      <td>142</td>\n",
       "      <td>106</td>\n",
       "      <td>33</td>\n",
       "      <td>111</td>\n",
       "    </tr>\n",
       "    <tr>\n",
       "      <th>6492</th>\n",
       "      <td>H</td>\n",
       "      <td>1357340</td>\n",
       "      <td>8</td>\n",
       "      <td>400</td>\n",
       "      <td>4</td>\n",
       "      <td>16</td>\n",
       "      <td>1015675</td>\n",
       "      <td>58</td>\n",
       "      <td>2</td>\n",
       "      <td>1</td>\n",
       "      <td>...</td>\n",
       "      <td>66</td>\n",
       "      <td>101</td>\n",
       "      <td>62</td>\n",
       "      <td>52</td>\n",
       "      <td>105</td>\n",
       "      <td>75</td>\n",
       "      <td>20</td>\n",
       "      <td>127</td>\n",
       "      <td>105</td>\n",
       "      <td>68</td>\n",
       "    </tr>\n",
       "    <tr>\n",
       "      <th>6493</th>\n",
       "      <td>H</td>\n",
       "      <td>1357874</td>\n",
       "      <td>8</td>\n",
       "      <td>900</td>\n",
       "      <td>4</td>\n",
       "      <td>16</td>\n",
       "      <td>1015675</td>\n",
       "      <td>32</td>\n",
       "      <td>2</td>\n",
       "      <td>1</td>\n",
       "      <td>...</td>\n",
       "      <td>7</td>\n",
       "      <td>8</td>\n",
       "      <td>12</td>\n",
       "      <td>37</td>\n",
       "      <td>44</td>\n",
       "      <td>36</td>\n",
       "      <td>28</td>\n",
       "      <td>33</td>\n",
       "      <td>48</td>\n",
       "      <td>59</td>\n",
       "    </tr>\n",
       "    <tr>\n",
       "      <th>6494</th>\n",
       "      <td>H</td>\n",
       "      <td>1357880</td>\n",
       "      <td>8</td>\n",
       "      <td>500</td>\n",
       "      <td>4</td>\n",
       "      <td>16</td>\n",
       "      <td>1015675</td>\n",
       "      <td>123</td>\n",
       "      <td>2</td>\n",
       "      <td>1</td>\n",
       "      <td>...</td>\n",
       "      <td>201</td>\n",
       "      <td>123</td>\n",
       "      <td>38</td>\n",
       "      <td>104</td>\n",
       "      <td>186</td>\n",
       "      <td>203</td>\n",
       "      <td>132</td>\n",
       "      <td>118</td>\n",
       "      <td>201</td>\n",
       "      <td>125</td>\n",
       "    </tr>\n",
       "    <tr>\n",
       "      <th>6495</th>\n",
       "      <td>H</td>\n",
       "      <td>1358490</td>\n",
       "      <td>8</td>\n",
       "      <td>700</td>\n",
       "      <td>4</td>\n",
       "      <td>16</td>\n",
       "      <td>1015675</td>\n",
       "      <td>353</td>\n",
       "      <td>2</td>\n",
       "      <td>1</td>\n",
       "      <td>...</td>\n",
       "      <td>312</td>\n",
       "      <td>558</td>\n",
       "      <td>372</td>\n",
       "      <td>102</td>\n",
       "      <td>108</td>\n",
       "      <td>381</td>\n",
       "      <td>340</td>\n",
       "      <td>114</td>\n",
       "      <td>563</td>\n",
       "      <td>358</td>\n",
       "    </tr>\n",
       "  </tbody>\n",
       "</table>\n",
       "<p>5 rows × 188 columns</p>\n",
       "</div>"
      ],
      "text/plain": [
       "     RT  SERIALNO  DIVISION  PUMA  REGION  ST   ADJUST  WGTP  NP  TYPE  ...  \\\n",
       "6491  H   1357238         8   300       4  16  1015675   108   2     1  ...   \n",
       "6492  H   1357340         8   400       4  16  1015675    58   2     1  ...   \n",
       "6493  H   1357874         8   900       4  16  1015675    32   2     1  ...   \n",
       "6494  H   1357880         8   500       4  16  1015675   123   2     1  ...   \n",
       "6495  H   1358490         8   700       4  16  1015675   353   2     1  ...   \n",
       "\n",
       "      wgtp71  wgtp72  wgtp73  wgtp74  wgtp75  wgtp76  wgtp77  wgtp78  wgtp79  \\\n",
       "6491     198      88     112      26      64     106     142     106      33   \n",
       "6492      66     101      62      52     105      75      20     127     105   \n",
       "6493       7       8      12      37      44      36      28      33      48   \n",
       "6494     201     123      38     104     186     203     132     118     201   \n",
       "6495     312     558     372     102     108     381     340     114     563   \n",
       "\n",
       "      wgtp80  \n",
       "6491     111  \n",
       "6492      68  \n",
       "6493      59  \n",
       "6494     125  \n",
       "6495     358  \n",
       "\n",
       "[5 rows x 188 columns]"
      ]
     },
     "execution_count": 4,
     "metadata": {},
     "output_type": "execute_result"
    }
   ],
   "source": [
    "df.tail()"
   ]
  },
  {
   "cell_type": "code",
   "execution_count": 5,
   "metadata": {},
   "outputs": [
    {
     "data": {
      "text/plain": [
       "(6496, 188)"
      ]
     },
     "execution_count": 5,
     "metadata": {},
     "output_type": "execute_result"
    }
   ],
   "source": [
    "df.shape"
   ]
  },
  {
   "cell_type": "code",
   "execution_count": 6,
   "metadata": {},
   "outputs": [],
   "source": [
    "df1=df.loc[:,['VAL','NP','FINCP']]"
   ]
  },
  {
   "cell_type": "code",
   "execution_count": 7,
   "metadata": {},
   "outputs": [
    {
     "data": {
      "text/html": [
       "<div>\n",
       "<style scoped>\n",
       "    .dataframe tbody tr th:only-of-type {\n",
       "        vertical-align: middle;\n",
       "    }\n",
       "\n",
       "    .dataframe tbody tr th {\n",
       "        vertical-align: top;\n",
       "    }\n",
       "\n",
       "    .dataframe thead th {\n",
       "        text-align: right;\n",
       "    }\n",
       "</style>\n",
       "<table border=\"1\" class=\"dataframe\">\n",
       "  <thead>\n",
       "    <tr style=\"text-align: right;\">\n",
       "      <th></th>\n",
       "      <th>VAL</th>\n",
       "      <th>NP</th>\n",
       "      <th>FINCP</th>\n",
       "    </tr>\n",
       "  </thead>\n",
       "  <tbody>\n",
       "    <tr>\n",
       "      <th>0</th>\n",
       "      <td>17.0</td>\n",
       "      <td>4</td>\n",
       "      <td>105600.0</td>\n",
       "    </tr>\n",
       "    <tr>\n",
       "      <th>1</th>\n",
       "      <td>NaN</td>\n",
       "      <td>1</td>\n",
       "      <td>NaN</td>\n",
       "    </tr>\n",
       "    <tr>\n",
       "      <th>2</th>\n",
       "      <td>18.0</td>\n",
       "      <td>2</td>\n",
       "      <td>9400.0</td>\n",
       "    </tr>\n",
       "    <tr>\n",
       "      <th>3</th>\n",
       "      <td>19.0</td>\n",
       "      <td>4</td>\n",
       "      <td>66000.0</td>\n",
       "    </tr>\n",
       "    <tr>\n",
       "      <th>4</th>\n",
       "      <td>20.0</td>\n",
       "      <td>4</td>\n",
       "      <td>93000.0</td>\n",
       "    </tr>\n",
       "  </tbody>\n",
       "</table>\n",
       "</div>"
      ],
      "text/plain": [
       "    VAL  NP     FINCP\n",
       "0  17.0   4  105600.0\n",
       "1   NaN   1       NaN\n",
       "2  18.0   2    9400.0\n",
       "3  19.0   4   66000.0\n",
       "4  20.0   4   93000.0"
      ]
     },
     "execution_count": 7,
     "metadata": {},
     "output_type": "execute_result"
    }
   ],
   "source": [
    "df1.head()"
   ]
  },
  {
   "cell_type": "code",
   "execution_count": 8,
   "metadata": {},
   "outputs": [
    {
     "data": {
      "text/html": [
       "<div>\n",
       "<style scoped>\n",
       "    .dataframe tbody tr th:only-of-type {\n",
       "        vertical-align: middle;\n",
       "    }\n",
       "\n",
       "    .dataframe tbody tr th {\n",
       "        vertical-align: top;\n",
       "    }\n",
       "\n",
       "    .dataframe thead th {\n",
       "        text-align: right;\n",
       "    }\n",
       "</style>\n",
       "<table border=\"1\" class=\"dataframe\">\n",
       "  <thead>\n",
       "    <tr style=\"text-align: right;\">\n",
       "      <th></th>\n",
       "      <th>VAL</th>\n",
       "      <th>NP</th>\n",
       "      <th>FINCP</th>\n",
       "    </tr>\n",
       "  </thead>\n",
       "  <tbody>\n",
       "    <tr>\n",
       "      <th>count</th>\n",
       "      <td>4420.0</td>\n",
       "      <td>6496.0</td>\n",
       "      <td>4051.0</td>\n",
       "    </tr>\n",
       "    <tr>\n",
       "      <th>mean</th>\n",
       "      <td>15.3</td>\n",
       "      <td>2.3</td>\n",
       "      <td>61311.4</td>\n",
       "    </tr>\n",
       "    <tr>\n",
       "      <th>std</th>\n",
       "      <td>4.5</td>\n",
       "      <td>1.6</td>\n",
       "      <td>48632.1</td>\n",
       "    </tr>\n",
       "    <tr>\n",
       "      <th>min</th>\n",
       "      <td>1.0</td>\n",
       "      <td>0.0</td>\n",
       "      <td>-14299.0</td>\n",
       "    </tr>\n",
       "    <tr>\n",
       "      <th>25%</th>\n",
       "      <td>13.0</td>\n",
       "      <td>1.0</td>\n",
       "      <td>30400.0</td>\n",
       "    </tr>\n",
       "    <tr>\n",
       "      <th>50%</th>\n",
       "      <td>16.0</td>\n",
       "      <td>2.0</td>\n",
       "      <td>50700.0</td>\n",
       "    </tr>\n",
       "    <tr>\n",
       "      <th>75%</th>\n",
       "      <td>18.0</td>\n",
       "      <td>3.0</td>\n",
       "      <td>76500.0</td>\n",
       "    </tr>\n",
       "    <tr>\n",
       "      <th>max</th>\n",
       "      <td>24.0</td>\n",
       "      <td>11.0</td>\n",
       "      <td>472600.0</td>\n",
       "    </tr>\n",
       "  </tbody>\n",
       "</table>\n",
       "</div>"
      ],
      "text/plain": [
       "          VAL      NP     FINCP\n",
       "count  4420.0  6496.0    4051.0\n",
       "mean     15.3     2.3   61311.4\n",
       "std       4.5     1.6   48632.1\n",
       "min       1.0     0.0  -14299.0\n",
       "25%      13.0     1.0   30400.0\n",
       "50%      16.0     2.0   50700.0\n",
       "75%      18.0     3.0   76500.0\n",
       "max      24.0    11.0  472600.0"
      ]
     },
     "execution_count": 8,
     "metadata": {},
     "output_type": "execute_result"
    }
   ],
   "source": [
    "df1.describe(include='all').round(1)"
   ]
  },
  {
   "cell_type": "code",
   "execution_count": 13,
   "metadata": {},
   "outputs": [
    {
     "data": {
      "text/plain": [
       "<AxesSubplot:>"
      ]
     },
     "execution_count": 13,
     "metadata": {},
     "output_type": "execute_result"
    },
    {
     "data": {
      "image/png": "[encoded data removed]",
      "text/plain": [
       "<Figure size 432x288 with 1 Axes>"
      ]
     },
     "metadata": {
      "needs_background": "light"
     },
     "output_type": "display_data"
    }
   ],
   "source": [
    "df1.VAL.hist(bins=24)"
   ]
  },
  {
   "cell_type": "markdown",
   "metadata": {},
   "source": [
    "## How many properties are worth $1,000,000 or more?"
   ]
  },
  {
   "cell_type": "code",
   "execution_count": 10,
   "metadata": {},
   "outputs": [
    {
     "name": "stdout",
     "output_type": "stream",
     "text": [
      "Number of properties worth 1M + = 53\n",
      "Percent of missing values 31.96 %\n"
     ]
    }
   ],
   "source": [
    "# VAL = Property value 24 for 1M+\n",
    "print(\"Number of properties worth 1M + =\", len(df1[df1['VAL']==24]))\n",
    "print(\"Percent of missing values\",np.round(df1['VAL'].isna().sum()*100/len(df1),2),\"%\")"
   ]
  },
  {
   "cell_type": "code",
   "execution_count": 11,
   "metadata": {},
   "outputs": [
    {
     "data": {
      "text/plain": [
       "18.0    502\n",
       "14.0    495\n",
       "16.0    486\n",
       "15.0    483\n",
       "17.0    357\n",
       "20.0    312\n",
       "13.0    233\n",
       "19.0    232\n",
       "12.0    199\n",
       "21.0    164\n",
       "22.0    159\n",
       "11.0    152\n",
       "10.0    119\n",
       "9.0      99\n",
       "1.0      75\n",
       "8.0      70\n",
       "24.0     53\n",
       "23.0     47\n",
       "2.0      42\n",
       "3.0      33\n",
       "4.0      30\n",
       "6.0      29\n",
       "5.0      26\n",
       "7.0      23\n",
       "Name: VAL, dtype: int64"
      ]
     },
     "execution_count": 11,
     "metadata": {},
     "output_type": "execute_result"
    }
   ],
   "source": [
    "df1['VAL'].value_counts()"
   ]
  },
  {
   "cell_type": "code",
   "execution_count": 12,
   "metadata": {},
   "outputs": [
    {
     "data": {
      "image/png": "[encoded data removed]",
      "text/plain": [
       "<Figure size 864x432 with 1 Axes>"
      ]
     },
     "metadata": {
      "needs_background": "light"
     },
     "output_type": "display_data"
    }
   ],
   "source": [
    "bar_color=['royalblue' for i in range(23)]\n",
    "bar_color.append('red')\n",
    "plt.figure(figsize=(12,6));\n",
    "sns.countplot(x=df['VAL'],palette=bar_color)\n",
    "plt.xlabel(\"Property value\")\n",
    "plt.ylabel(\"Count\")\n",
    "plt.title(\"Distribution of Property Value\");"
   ]
  },
  {
   "cell_type": "code",
   "execution_count": 12,
   "metadata": {},
   "outputs": [
    {
     "data": {
      "text/plain": [
       "<AxesSubplot:>"
      ]
     },
     "execution_count": 12,
     "metadata": {},
     "output_type": "execute_result"
    },
    {
     "data": {
      "image/png": "[encoded data removed]",
      "text/plain": [
       "<Figure size 864x432 with 1 Axes>"
      ]
     },
     "metadata": {
      "needs_background": "light"
     },
     "output_type": "display_data"
    }
   ],
   "source": [
    "df['VAL'].hist(bins=23,figsize=(12,6),width=0.5)"
   ]
  },
  {
   "cell_type": "markdown",
   "metadata": {},
   "source": [
    "## How many people recorded in a house on average?"
   ]
  },
  {
   "cell_type": "code",
   "execution_count": 14,
   "metadata": {},
   "outputs": [],
   "source": [
    "#NP = Number of person records following this housing record"
   ]
  },
  {
   "cell_type": "code",
   "execution_count": 15,
   "metadata": {},
   "outputs": [
    {
     "data": {
      "text/plain": [
       "<AxesSubplot:xlabel='NP', ylabel='count'>"
      ]
     },
     "execution_count": 15,
     "metadata": {},
     "output_type": "execute_result"
    },
    {
     "data": {
      "image/png": "[encoded data removed]",
      "text/plain": [
       "<Figure size 432x288 with 1 Axes>"
      ]
     },
     "metadata": {
      "needs_background": "light"
     },
     "output_type": "display_data"
    }
   ],
   "source": [
    "sns.countplot(x=df['NP'],color='blue')"
   ]
  },
  {
   "cell_type": "code",
   "execution_count": 16,
   "metadata": {},
   "outputs": [
    {
     "data": {
      "image/png": "[encoded data removed]",
      "text/plain": [
       "<Figure size 864x432 with 1 Axes>"
      ]
     },
     "metadata": {
      "needs_background": "light"
     },
     "output_type": "display_data"
    }
   ],
   "source": [
    "plt.figure(figsize=(12,6));\n",
    "sns.countplot(x=df['NP'],palette=bar_color)\n",
    "plt.axvline(x=df['NP'].mean(),color='red',ls='--',lw=2)\n",
    "plt.xlabel(\"Number of people\")\n",
    "plt.ylabel(\"Count\")\n",
    "plt.title(\"Distribution of Prople in House\");\n",
    "plt.text(2, 2300, \"Average\", fontsize=10,c='red');"
   ]
  },
  {
   "cell_type": "markdown",
   "metadata": {},
   "source": [
    "## Draw a graph to show the relationship between the property value and the number of persons recorded?"
   ]
  },
  {
   "cell_type": "code",
   "execution_count": 17,
   "metadata": {},
   "outputs": [
    {
     "data": {
      "text/plain": [
       "<matplotlib.collections.PathCollection at 0x7faa757de590>"
      ]
     },
     "execution_count": 17,
     "metadata": {},
     "output_type": "execute_result"
    },
    {
     "data": {
      "image/png": "[encoded data removed]",
      "text/plain": [
       "<Figure size 432x288 with 1 Axes>"
      ]
     },
     "metadata": {
      "needs_background": "light"
     },
     "output_type": "display_data"
    }
   ],
   "source": [
    "plt.scatter(df1['NP'],df1['VAL'])\n"
   ]
  },
  {
   "cell_type": "code",
   "execution_count": 18,
   "metadata": {},
   "outputs": [
    {
     "data": {
      "text/plain": [
       "[]"
      ]
     },
     "execution_count": 18,
     "metadata": {},
     "output_type": "execute_result"
    },
    {
     "data": {
      "image/png": "[encoded data removed]",
      "text/plain": [
       "<Figure size 432x432 with 3 Axes>"
      ]
     },
     "metadata": {
      "needs_background": "light"
     },
     "output_type": "display_data"
    }
   ],
   "source": [
    "g = sns.jointplot(data=df1, x=\"NP\" ,y=\"VAL\")\n",
    "g.plot_joint(sns.kdeplot, color=\"r\", zorder=0, levels=6)\n",
    "plt.ylabel(\"Property Value\")\n",
    "plt.xlabel(\"Number of people\")\n",
    "plt.plot()"
   ]
  },
  {
   "cell_type": "markdown",
   "metadata": {},
   "source": [
    "## Normalize family income into a range (0~1). Compare before vs after in histogram."
   ]
  },
  {
   "cell_type": "code",
   "execution_count": 19,
   "metadata": {},
   "outputs": [],
   "source": [
    "min=df1['FINCP'].min()\n",
    "max=df1['FINCP'].max()\n",
    "df1['n1']=(df1['FINCP']-min)/(max-min)"
   ]
  },
  {
   "cell_type": "code",
   "execution_count": 29,
   "metadata": {},
   "outputs": [],
   "source": [
    "from sklearn.preprocessing import MinMaxScaler,PowerTransformer"
   ]
  },
  {
   "cell_type": "code",
   "execution_count": 21,
   "metadata": {},
   "outputs": [],
   "source": [
    "#FINCP = Family income "
   ]
  },
  {
   "cell_type": "code",
   "execution_count": 24,
   "metadata": {},
   "outputs": [
    {
     "data": {
      "text/plain": [
       "array([[105600.],\n",
       "       [    nan],\n",
       "       [  9400.],\n",
       "       ...,\n",
       "       [ 18000.],\n",
       "       [ 33000.],\n",
       "       [ 32600.]])"
      ]
     },
     "execution_count": 24,
     "metadata": {},
     "output_type": "execute_result"
    }
   ],
   "source": [
    "df1['FINCP'].values.reshape(-1,1)"
   ]
  },
  {
   "cell_type": "code",
   "execution_count": 31,
   "metadata": {},
   "outputs": [],
   "source": [
    "#Normalize\n",
    "scaler = PowerTransformer()\n",
    "scaler.fit(df1['FINCP'].values.reshape(-1,1))\n",
    "df1['n2']=scaler.transform(df1['FINCP'].values.reshape(-1,1))\n",
    "#normalized = scaler.fit_transform(df['FINCP'].values.reshape(-1,1))"
   ]
  },
  {
   "cell_type": "code",
   "execution_count": 32,
   "metadata": {},
   "outputs": [
    {
     "data": {
      "text/html": [
       "<div>\n",
       "<style scoped>\n",
       "    .dataframe tbody tr th:only-of-type {\n",
       "        vertical-align: middle;\n",
       "    }\n",
       "\n",
       "    .dataframe tbody tr th {\n",
       "        vertical-align: top;\n",
       "    }\n",
       "\n",
       "    .dataframe thead th {\n",
       "        text-align: right;\n",
       "    }\n",
       "</style>\n",
       "<table border=\"1\" class=\"dataframe\">\n",
       "  <thead>\n",
       "    <tr style=\"text-align: right;\">\n",
       "      <th></th>\n",
       "      <th>VAL</th>\n",
       "      <th>NP</th>\n",
       "      <th>FINCP</th>\n",
       "      <th>n1</th>\n",
       "      <th>n2</th>\n",
       "    </tr>\n",
       "  </thead>\n",
       "  <tbody>\n",
       "    <tr>\n",
       "      <th>0</th>\n",
       "      <td>17.0</td>\n",
       "      <td>4</td>\n",
       "      <td>105600.0</td>\n",
       "      <td>0.246250</td>\n",
       "      <td>0.973353</td>\n",
       "    </tr>\n",
       "    <tr>\n",
       "      <th>1</th>\n",
       "      <td>NaN</td>\n",
       "      <td>1</td>\n",
       "      <td>NaN</td>\n",
       "      <td>NaN</td>\n",
       "      <td>NaN</td>\n",
       "    </tr>\n",
       "    <tr>\n",
       "      <th>2</th>\n",
       "      <td>18.0</td>\n",
       "      <td>2</td>\n",
       "      <td>9400.0</td>\n",
       "      <td>0.048673</td>\n",
       "      <td>-1.210224</td>\n",
       "    </tr>\n",
       "    <tr>\n",
       "      <th>3</th>\n",
       "      <td>19.0</td>\n",
       "      <td>4</td>\n",
       "      <td>66000.0</td>\n",
       "      <td>0.164919</td>\n",
       "      <td>0.162543</td>\n",
       "    </tr>\n",
       "    <tr>\n",
       "      <th>4</th>\n",
       "      <td>20.0</td>\n",
       "      <td>4</td>\n",
       "      <td>93000.0</td>\n",
       "      <td>0.220372</td>\n",
       "      <td>0.722429</td>\n",
       "    </tr>\n",
       "    <tr>\n",
       "      <th>5</th>\n",
       "      <td>15.0</td>\n",
       "      <td>4</td>\n",
       "      <td>61000.0</td>\n",
       "      <td>0.154650</td>\n",
       "      <td>0.054735</td>\n",
       "    </tr>\n",
       "    <tr>\n",
       "      <th>6</th>\n",
       "      <td>NaN</td>\n",
       "      <td>1</td>\n",
       "      <td>NaN</td>\n",
       "      <td>NaN</td>\n",
       "      <td>NaN</td>\n",
       "    </tr>\n",
       "    <tr>\n",
       "      <th>7</th>\n",
       "      <td>NaN</td>\n",
       "      <td>1</td>\n",
       "      <td>NaN</td>\n",
       "      <td>NaN</td>\n",
       "      <td>NaN</td>\n",
       "    </tr>\n",
       "    <tr>\n",
       "      <th>8</th>\n",
       "      <td>13.0</td>\n",
       "      <td>2</td>\n",
       "      <td>209000.0</td>\n",
       "      <td>0.458615</td>\n",
       "      <td>2.877893</td>\n",
       "    </tr>\n",
       "    <tr>\n",
       "      <th>9</th>\n",
       "      <td>1.0</td>\n",
       "      <td>2</td>\n",
       "      <td>NaN</td>\n",
       "      <td>NaN</td>\n",
       "      <td>NaN</td>\n",
       "    </tr>\n",
       "  </tbody>\n",
       "</table>\n",
       "</div>"
      ],
      "text/plain": [
       "    VAL  NP     FINCP        n1        n2\n",
       "0  17.0   4  105600.0  0.246250  0.973353\n",
       "1   NaN   1       NaN       NaN       NaN\n",
       "2  18.0   2    9400.0  0.048673 -1.210224\n",
       "3  19.0   4   66000.0  0.164919  0.162543\n",
       "4  20.0   4   93000.0  0.220372  0.722429\n",
       "5  15.0   4   61000.0  0.154650  0.054735\n",
       "6   NaN   1       NaN       NaN       NaN\n",
       "7   NaN   1       NaN       NaN       NaN\n",
       "8  13.0   2  209000.0  0.458615  2.877893\n",
       "9   1.0   2       NaN       NaN       NaN"
      ]
     },
     "execution_count": 32,
     "metadata": {},
     "output_type": "execute_result"
    }
   ],
   "source": [
    "df1.head(10)"
   ]
  },
  {
   "cell_type": "code",
   "execution_count": 27,
   "metadata": {},
   "outputs": [
    {
     "data": {
      "text/html": [
       "<div>\n",
       "<style scoped>\n",
       "    .dataframe tbody tr th:only-of-type {\n",
       "        vertical-align: middle;\n",
       "    }\n",
       "\n",
       "    .dataframe tbody tr th {\n",
       "        vertical-align: top;\n",
       "    }\n",
       "\n",
       "    .dataframe thead th {\n",
       "        text-align: right;\n",
       "    }\n",
       "</style>\n",
       "<table border=\"1\" class=\"dataframe\">\n",
       "  <thead>\n",
       "    <tr style=\"text-align: right;\">\n",
       "      <th></th>\n",
       "      <th>VAL</th>\n",
       "      <th>NP</th>\n",
       "      <th>FINCP</th>\n",
       "      <th>n1</th>\n",
       "      <th>n2</th>\n",
       "    </tr>\n",
       "  </thead>\n",
       "  <tbody>\n",
       "    <tr>\n",
       "      <th>count</th>\n",
       "      <td>4420.000000</td>\n",
       "      <td>6496.000000</td>\n",
       "      <td>4051.000000</td>\n",
       "      <td>4051.000000</td>\n",
       "      <td>4051.000000</td>\n",
       "    </tr>\n",
       "    <tr>\n",
       "      <th>mean</th>\n",
       "      <td>15.287783</td>\n",
       "      <td>2.298491</td>\n",
       "      <td>61311.406813</td>\n",
       "      <td>0.155290</td>\n",
       "      <td>0.155290</td>\n",
       "    </tr>\n",
       "    <tr>\n",
       "      <th>std</th>\n",
       "      <td>4.532799</td>\n",
       "      <td>1.563549</td>\n",
       "      <td>48632.063845</td>\n",
       "      <td>0.099881</td>\n",
       "      <td>0.099881</td>\n",
       "    </tr>\n",
       "    <tr>\n",
       "      <th>min</th>\n",
       "      <td>1.000000</td>\n",
       "      <td>0.000000</td>\n",
       "      <td>-14299.000000</td>\n",
       "      <td>0.000000</td>\n",
       "      <td>0.000000</td>\n",
       "    </tr>\n",
       "    <tr>\n",
       "      <th>25%</th>\n",
       "      <td>13.000000</td>\n",
       "      <td>1.000000</td>\n",
       "      <td>30400.000000</td>\n",
       "      <td>0.091803</td>\n",
       "      <td>0.091803</td>\n",
       "    </tr>\n",
       "    <tr>\n",
       "      <th>50%</th>\n",
       "      <td>16.000000</td>\n",
       "      <td>2.000000</td>\n",
       "      <td>50700.000000</td>\n",
       "      <td>0.133496</td>\n",
       "      <td>0.133496</td>\n",
       "    </tr>\n",
       "    <tr>\n",
       "      <th>75%</th>\n",
       "      <td>18.000000</td>\n",
       "      <td>3.000000</td>\n",
       "      <td>76500.000000</td>\n",
       "      <td>0.186484</td>\n",
       "      <td>0.186484</td>\n",
       "    </tr>\n",
       "    <tr>\n",
       "      <th>max</th>\n",
       "      <td>24.000000</td>\n",
       "      <td>11.000000</td>\n",
       "      <td>472600.000000</td>\n",
       "      <td>1.000000</td>\n",
       "      <td>1.000000</td>\n",
       "    </tr>\n",
       "  </tbody>\n",
       "</table>\n",
       "</div>"
      ],
      "text/plain": [
       "               VAL           NP          FINCP           n1           n2\n",
       "count  4420.000000  6496.000000    4051.000000  4051.000000  4051.000000\n",
       "mean     15.287783     2.298491   61311.406813     0.155290     0.155290\n",
       "std       4.532799     1.563549   48632.063845     0.099881     0.099881\n",
       "min       1.000000     0.000000  -14299.000000     0.000000     0.000000\n",
       "25%      13.000000     1.000000   30400.000000     0.091803     0.091803\n",
       "50%      16.000000     2.000000   50700.000000     0.133496     0.133496\n",
       "75%      18.000000     3.000000   76500.000000     0.186484     0.186484\n",
       "max      24.000000    11.000000  472600.000000     1.000000     1.000000"
      ]
     },
     "execution_count": 27,
     "metadata": {},
     "output_type": "execute_result"
    }
   ],
   "source": [
    "df1.describe()"
   ]
  },
  {
   "cell_type": "code",
   "execution_count": 34,
   "metadata": {},
   "outputs": [
    {
     "data": {
      "image/png": "[encoded data removed]",
      "text/plain": [
       "<Figure size 1080x504 with 2 Axes>"
      ]
     },
     "metadata": {
      "needs_background": "light"
     },
     "output_type": "display_data"
    }
   ],
   "source": [
    "f, axes = plt.subplots(1, 2,figsize=(15,7))\n",
    "f.suptitle(\"Family Income Histogram\")\n",
    "sns.histplot(df1['FINCP'],ax=axes[0],kde=True);\n",
    "axes[0].set_title(\"Un-normalized\")\n",
    "sns.histplot(df1['n2'],ax=axes[1],kde=True,legend=False);\n",
    "axes[1].set_title(\"Normalized\");"
   ]
  },
  {
   "cell_type": "markdown",
   "metadata": {},
   "source": [
    "## Create 5 bins for family income."
   ]
  },
  {
   "cell_type": "code",
   "execution_count": 35,
   "metadata": {},
   "outputs": [
    {
     "data": {
      "text/plain": [
       "[]"
      ]
     },
     "execution_count": 35,
     "metadata": {},
     "output_type": "execute_result"
    },
    {
     "data": {
      "image/png": "[encoded data removed]",
      "text/plain": [
       "<Figure size 432x288 with 1 Axes>"
      ]
     },
     "metadata": {
      "needs_background": "light"
     },
     "output_type": "display_data"
    }
   ],
   "source": [
    "sns.histplot(df1['FINCP'],bins=5)\n",
    "plt.ylabel(\"Count\")\n",
    "plt.xlabel(\"Family Income\")\n",
    "plt.title(\"5 Bins of family Income\")\n",
    "plt.plot()"
   ]
  },
  {
   "cell_type": "code",
   "execution_count": 36,
   "metadata": {},
   "outputs": [
    {
     "data": {
      "text/plain": [
       "[]"
      ]
     },
     "execution_count": 36,
     "metadata": {},
     "output_type": "execute_result"
    },
    {
     "data": {
      "image/png": "[encoded data removed]",
      "text/plain": [
       "<Figure size 432x288 with 1 Axes>"
      ]
     },
     "metadata": {
      "needs_background": "light"
     },
     "output_type": "display_data"
    }
   ],
   "source": [
    "sns.histplot(df1['FINCP'],bins=[-15000,100000,200000,300000,400000,500000])\n",
    "plt.ylabel(\"Count\")\n",
    "plt.xlabel(\"Family Income\")\n",
    "plt.title(\"5 Bins of family Income\")\n",
    "plt.plot()"
   ]
  }
 ],
 "metadata": {
  "kernelspec": {
   "display_name": "base",
   "language": "python",
   "name": "python3"
  },
  "language_info": {
   "codemirror_mode": {
    "name": "ipython",
    "version": 3
   },
   "file_extension": ".py",
   "mimetype": "text/x-python",
   "name": "python",
   "nbconvert_exporter": "python",
   "pygments_lexer": "ipython3",
   "version": "3.7.4"
  },
  "vscode": {
   "interpreter": {
    "hash": "cd78fef2128015050713e82ca51c6520b11aee7c9ee8df750520bbbc7384cbaa"
   }
  }
 },
 "nbformat": 4,
 "nbformat_minor": 4
}
